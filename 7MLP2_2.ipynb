{
 "cells": [
  {
   "cell_type": "code",
   "execution_count": 1,
   "id": "084397df",
   "metadata": {},
   "outputs": [],
   "source": [
    "from sklearn.model_selection import train_test_split\n",
    "from sklearn.preprocessing import StandardScaler\n",
    "import pickle\n",
    "import numpy as np"
   ]
  },
  {
   "cell_type": "code",
   "execution_count": 2,
   "id": "9ac16009",
   "metadata": {},
   "outputs": [],
   "source": [
    "with open('scaler.pkl','rb') as f:\n",
    "    scaler = pickle.load(f)"
   ]
  },
  {
   "cell_type": "code",
   "execution_count": 3,
   "id": "d922f58f",
   "metadata": {},
   "outputs": [],
   "source": [
    "X_test = np.load('X_test.npy', allow_pickle=True)"
   ]
  },
  {
   "cell_type": "code",
   "execution_count": 4,
   "id": "242d5814",
   "metadata": {},
   "outputs": [],
   "source": [
    "X_test = np.asarray(X_test).reshape(-1,1)"
   ]
  },
  {
   "cell_type": "code",
   "execution_count": 5,
   "id": "b764dba7",
   "metadata": {},
   "outputs": [],
   "source": [
    "X_test_Normalized = scaler.transform(X_test)"
   ]
  },
  {
   "cell_type": "code",
   "execution_count": 6,
   "id": "f94fde86",
   "metadata": {},
   "outputs": [
    {
     "data": {
      "text/plain": [
       "array([[ 3.5846748 ],\n",
       "       [-0.74521085],\n",
       "       [-0.7728999 ],\n",
       "       [-0.46621978],\n",
       "       [-0.80481733],\n",
       "       [ 0.44468181],\n",
       "       [ 2.95178219],\n",
       "       [ 0.97372001],\n",
       "       [-0.66233465],\n",
       "       [-0.55337892],\n",
       "       [-0.42262658],\n",
       "       [-0.43394772],\n",
       "       [-0.63759182],\n",
       "       [ 1.27925437],\n",
       "       [-0.08563855],\n",
       "       [-0.62166039],\n",
       "       [-0.72251401],\n",
       "       [-0.65597845],\n",
       "       [-0.84000834],\n",
       "       [-0.24899031]])"
      ]
     },
     "execution_count": 6,
     "metadata": {},
     "output_type": "execute_result"
    }
   ],
   "source": [
    "X_test_Normalized"
   ]
  },
  {
   "cell_type": "code",
   "execution_count": 7,
   "id": "7dcf3bbe",
   "metadata": {},
   "outputs": [
    {
     "data": {
      "text/plain": [
       "array([[21.279 ],\n",
       "       [ 5.4069],\n",
       "       [ 5.3054],\n",
       "       [ 6.4296],\n",
       "       [ 5.1884],\n",
       "       [ 9.7687],\n",
       "       [18.959 ],\n",
       "       [11.708 ],\n",
       "       [ 5.7107],\n",
       "       [ 6.1101],\n",
       "       [ 6.5894],\n",
       "       [ 6.5479],\n",
       "       [ 5.8014],\n",
       "       [12.828 ],\n",
       "       [ 7.8247],\n",
       "       [ 5.8598],\n",
       "       [ 5.4901],\n",
       "       [ 5.734 ],\n",
       "       [ 5.0594],\n",
       "       [ 7.2259]])"
      ]
     },
     "execution_count": 7,
     "metadata": {},
     "output_type": "execute_result"
    }
   ],
   "source": [
    "X_test"
   ]
  },
  {
   "cell_type": "code",
   "execution_count": null,
   "id": "dccb9bed",
   "metadata": {},
   "outputs": [],
   "source": []
  }
 ],
 "metadata": {
  "kernelspec": {
   "display_name": "Python 3 (ipykernel)",
   "language": "python",
   "name": "python3"
  },
  "language_info": {
   "codemirror_mode": {
    "name": "ipython",
    "version": 3
   },
   "file_extension": ".py",
   "mimetype": "text/x-python",
   "name": "python",
   "nbconvert_exporter": "python",
   "pygments_lexer": "ipython3",
   "version": "3.9.7"
  }
 },
 "nbformat": 4,
 "nbformat_minor": 5
}
