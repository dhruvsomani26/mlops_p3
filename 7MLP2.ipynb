{
 "cells": [
  {
   "cell_type": "code",
   "execution_count": 25,
   "id": "b12862f4",
   "metadata": {},
   "outputs": [
    {
     "data": {
      "text/plain": [
       "'1.20.3'"
      ]
     },
     "execution_count": 25,
     "metadata": {},
     "output_type": "execute_result"
    }
   ],
   "source": [
    "import numpy as np\n",
    "np.__version__"
   ]
  },
  {
   "cell_type": "code",
   "execution_count": 26,
   "id": "9b3cf558",
   "metadata": {},
   "outputs": [
    {
     "data": {
      "text/plain": [
       "'1.3.4'"
      ]
     },
     "execution_count": 26,
     "metadata": {},
     "output_type": "execute_result"
    }
   ],
   "source": [
    "import pandas as pd\n",
    "pd.__version__"
   ]
  },
  {
   "cell_type": "code",
   "execution_count": 27,
   "id": "c5dbf96f",
   "metadata": {},
   "outputs": [
    {
     "data": {
      "text/plain": [
       "'3.4.3'"
      ]
     },
     "execution_count": 27,
     "metadata": {},
     "output_type": "execute_result"
    }
   ],
   "source": [
    "import matplotlib as mp\n",
    "mp.__version__"
   ]
  },
  {
   "cell_type": "code",
   "execution_count": 28,
   "id": "f0a628e1",
   "metadata": {},
   "outputs": [
    {
     "data": {
      "text/plain": [
       "'0.24.2'"
      ]
     },
     "execution_count": 28,
     "metadata": {},
     "output_type": "execute_result"
    }
   ],
   "source": [
    "import sklearn\n",
    "sklearn.__version__"
   ]
  },
  {
   "cell_type": "code",
   "execution_count": 29,
   "id": "cbab6c65",
   "metadata": {},
   "outputs": [
    {
     "data": {
      "text/html": [
       "<div>\n",
       "<style scoped>\n",
       "    .dataframe tbody tr th:only-of-type {\n",
       "        vertical-align: middle;\n",
       "    }\n",
       "\n",
       "    .dataframe tbody tr th {\n",
       "        vertical-align: top;\n",
       "    }\n",
       "\n",
       "    .dataframe thead th {\n",
       "        text-align: right;\n",
       "    }\n",
       "</style>\n",
       "<table border=\"1\" class=\"dataframe\">\n",
       "  <thead>\n",
       "    <tr style=\"text-align: right;\">\n",
       "      <th></th>\n",
       "      <th>0</th>\n",
       "      <th>1</th>\n",
       "    </tr>\n",
       "  </thead>\n",
       "  <tbody>\n",
       "    <tr>\n",
       "      <th>0</th>\n",
       "      <td>6.1101</td>\n",
       "      <td>17.59200</td>\n",
       "    </tr>\n",
       "    <tr>\n",
       "      <th>1</th>\n",
       "      <td>5.5277</td>\n",
       "      <td>9.13020</td>\n",
       "    </tr>\n",
       "    <tr>\n",
       "      <th>2</th>\n",
       "      <td>8.5186</td>\n",
       "      <td>13.66200</td>\n",
       "    </tr>\n",
       "    <tr>\n",
       "      <th>3</th>\n",
       "      <td>7.0032</td>\n",
       "      <td>11.85400</td>\n",
       "    </tr>\n",
       "    <tr>\n",
       "      <th>4</th>\n",
       "      <td>5.8598</td>\n",
       "      <td>6.82330</td>\n",
       "    </tr>\n",
       "    <tr>\n",
       "      <th>...</th>\n",
       "      <td>...</td>\n",
       "      <td>...</td>\n",
       "    </tr>\n",
       "    <tr>\n",
       "      <th>92</th>\n",
       "      <td>5.8707</td>\n",
       "      <td>7.20290</td>\n",
       "    </tr>\n",
       "    <tr>\n",
       "      <th>93</th>\n",
       "      <td>5.3054</td>\n",
       "      <td>1.98690</td>\n",
       "    </tr>\n",
       "    <tr>\n",
       "      <th>94</th>\n",
       "      <td>8.2934</td>\n",
       "      <td>0.14454</td>\n",
       "    </tr>\n",
       "    <tr>\n",
       "      <th>95</th>\n",
       "      <td>13.3940</td>\n",
       "      <td>9.05510</td>\n",
       "    </tr>\n",
       "    <tr>\n",
       "      <th>96</th>\n",
       "      <td>5.4369</td>\n",
       "      <td>0.61705</td>\n",
       "    </tr>\n",
       "  </tbody>\n",
       "</table>\n",
       "<p>97 rows × 2 columns</p>\n",
       "</div>"
      ],
      "text/plain": [
       "          0         1\n",
       "0    6.1101  17.59200\n",
       "1    5.5277   9.13020\n",
       "2    8.5186  13.66200\n",
       "3    7.0032  11.85400\n",
       "4    5.8598   6.82330\n",
       "..      ...       ...\n",
       "92   5.8707   7.20290\n",
       "93   5.3054   1.98690\n",
       "94   8.2934   0.14454\n",
       "95  13.3940   9.05510\n",
       "96   5.4369   0.61705\n",
       "\n",
       "[97 rows x 2 columns]"
      ]
     },
     "execution_count": 29,
     "metadata": {},
     "output_type": "execute_result"
    }
   ],
   "source": [
    "data = pd.read_csv('Sample.txt' , header = None)\n",
    "data"
   ]
  },
  {
   "cell_type": "code",
   "execution_count": 30,
   "id": "a8031a3b",
   "metadata": {},
   "outputs": [],
   "source": [
    "X= data[0]\n",
    "y = data[1]"
   ]
  },
  {
   "cell_type": "code",
   "execution_count": 31,
   "id": "ab10ade5",
   "metadata": {},
   "outputs": [],
   "source": [
    "# Splitting and Normalization"
   ]
  },
  {
   "cell_type": "raw",
   "id": "ef0f01b6",
   "metadata": {},
   "source": []
  },
  {
   "cell_type": "code",
   "execution_count": 32,
   "id": "40b0cd21",
   "metadata": {},
   "outputs": [],
   "source": [
    "from sklearn.model_selection import train_test_split\n",
    "from sklearn.preprocessing import StandardScaler"
   ]
  },
  {
   "cell_type": "code",
   "execution_count": 33,
   "id": "4a5fb6c8",
   "metadata": {},
   "outputs": [],
   "source": [
    "RandomState = 42"
   ]
  },
  {
   "cell_type": "code",
   "execution_count": 34,
   "id": "212f0f79",
   "metadata": {},
   "outputs": [],
   "source": [
    "#Splitting of training and testing data"
   ]
  },
  {
   "cell_type": "code",
   "execution_count": 35,
   "id": "7bc31842",
   "metadata": {},
   "outputs": [],
   "source": [
    "X_train, X_test, y_train, y_test = train_test_split(X,y, test_size=0.2, random_state = RandomState)"
   ]
  },
  {
   "cell_type": "code",
   "execution_count": 36,
   "id": "24222989",
   "metadata": {},
   "outputs": [],
   "source": [
    "np.save(\"X_train.npy\",X_train)\n",
    "np.save(\"X_test.npy\",X_test)\n",
    "np.save(\"y_train.npy\",y_train)\n",
    "np.save(\"y_test.npy\",y_test)"
   ]
  },
  {
   "cell_type": "code",
   "execution_count": 37,
   "id": "b6834b60",
   "metadata": {},
   "outputs": [],
   "source": [
    "#Normalization"
   ]
  },
  {
   "cell_type": "code",
   "execution_count": 38,
   "id": "f28ed7a4",
   "metadata": {},
   "outputs": [],
   "source": [
    "X_train = np.asarray(X_train).reshape(-1,1)\n",
    "X_test = np.asarray(X_test).reshape(-1,1)"
   ]
  },
  {
   "cell_type": "code",
   "execution_count": 39,
   "id": "3c4211bc",
   "metadata": {},
   "outputs": [],
   "source": [
    "scaler = StandardScaler()\n",
    "scaler.fit(X_train)\n",
    "X_train_Normalized = scaler.transform(X_train)"
   ]
  },
  {
   "cell_type": "code",
   "execution_count": 40,
   "id": "cdd849c7",
   "metadata": {},
   "outputs": [],
   "source": [
    "X_test_Normalized = scaler.transform(X_test)\n"
   ]
  },
  {
   "cell_type": "code",
   "execution_count": 41,
   "id": "17fc3107",
   "metadata": {},
   "outputs": [
    {
     "data": {
      "text/plain": [
       "array([[ 3.5846748 ],\n",
       "       [-0.74521085],\n",
       "       [-0.7728999 ],\n",
       "       [-0.46621978],\n",
       "       [-0.80481733],\n",
       "       [ 0.44468181],\n",
       "       [ 2.95178219],\n",
       "       [ 0.97372001],\n",
       "       [-0.66233465],\n",
       "       [-0.55337892],\n",
       "       [-0.42262658],\n",
       "       [-0.43394772],\n",
       "       [-0.63759182],\n",
       "       [ 1.27925437],\n",
       "       [-0.08563855],\n",
       "       [-0.62166039],\n",
       "       [-0.72251401],\n",
       "       [-0.65597845],\n",
       "       [-0.84000834],\n",
       "       [-0.24899031]])"
      ]
     },
     "execution_count": 41,
     "metadata": {},
     "output_type": "execute_result"
    }
   ],
   "source": [
    "X_test_Normalized"
   ]
  },
  {
   "cell_type": "code",
   "execution_count": 42,
   "id": "2e30b5bc",
   "metadata": {},
   "outputs": [],
   "source": [
    "import pickle\n",
    "with open('scaler.pkl','wb') as f:\n",
    "    pickle.dump(scaler, f)"
   ]
  },
  {
   "cell_type": "code",
   "execution_count": 43,
   "id": "8873df8b",
   "metadata": {},
   "outputs": [],
   "source": [
    " #with open('C:\\Users\\student\\Desktop\\scaler.pkl','rb') as f"
   ]
  },
  {
   "cell_type": "code",
   "execution_count": 44,
   "id": "376d92a3",
   "metadata": {},
   "outputs": [],
   "source": [
    "from sklearn.linear_model import LinearRegression\n",
    "reg = LinearRegression()\n",
    "reg.fit(X_train_Normalized, y_train)\n",
    "Score = reg.score(X_train_Normalized, y_train)\n",
    "CoEfficient = reg.coef_\n",
    "Intercept = reg.intercept_\n"
   ]
  },
  {
   "cell_type": "code",
   "execution_count": 45,
   "id": "ed04c92a",
   "metadata": {},
   "outputs": [],
   "source": [
    " Predictions = reg.predict(X_test_Normalized)\n"
   ]
  },
  {
   "cell_type": "code",
   "execution_count": 46,
   "id": "a8e813cd",
   "metadata": {},
   "outputs": [
    {
     "name": "stdout",
     "output_type": "stream",
     "text": [
      "MAE: 2.4849697479798394\n",
      "MSE: 15.709362447765182\n",
      "RMSE: 3.9635038094803416\n"
     ]
    }
   ],
   "source": [
    "from sklearn.metrics import mean_absolute_error,mean_squared_error\n",
    "mae = mean_absolute_error(y_test, Predictions)\n",
    "#squared True returns MSE value, False returns RMSE value.\n",
    "mse = mean_squared_error(y_test, Predictions) #default=True\n",
    "rmse = mean_squared_error(y_test, Predictions,squared=False)\n",
    "print(\"MAE:\",mae)\n",
    "print(\"MSE:\",mse)\n",
    "print(\"RMSE:\",rmse)\n"
   ]
  },
  {
   "cell_type": "code",
   "execution_count": 47,
   "id": "7b847c7e",
   "metadata": {},
   "outputs": [
    {
     "data": {
      "image/png": "[encoded data removed]",
      "text/plain": [
       "<Figure size 432x288 with 1 Axes>"
      ]
     },
     "metadata": {
      "needs_background": "light"
     },
     "output_type": "display_data"
    }
   ],
   "source": [
    "import matplotlib.pyplot as plt\n",
    "plt.scatter(X_test, y_test, color ='b')\n",
    "plt.plot(X_test, Predictions, color ='k')\n",
    "plt.show()\n"
   ]
  },
  {
   "cell_type": "code",
   "execution_count": null,
   "id": "2fc0d614",
   "metadata": {},
   "outputs": [],
   "source": []
  }
 ],
 "metadata": {
  "kernelspec": {
   "display_name": "Python 3 (ipykernel)",
   "language": "python",
   "name": "python3"
  },
  "language_info": {
   "codemirror_mode": {
    "name": "ipython",
    "version": 3
   },
   "file_extension": ".py",
   "mimetype": "text/x-python",
   "name": "python",
   "nbconvert_exporter": "python",
   "pygments_lexer": "ipython3",
   "version": "3.9.7"
  }
 },
 "nbformat": 4,
 "nbformat_minor": 5
}
