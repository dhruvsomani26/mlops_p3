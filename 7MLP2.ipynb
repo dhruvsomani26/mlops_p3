{
 "cells": [
  {
   "cell_type": "code",
   "execution_count": 6,
   "id": "b12862f4",
   "metadata": {},
   "outputs": [
    {
     "data": {
      "text/plain": [
       "'1.20.3'"
      ]
     },
     "execution_count": 6,
     "metadata": {},
     "output_type": "execute_result"
    }
   ],
   "source": [
    "import numpy as np\n",
    "np.__version__"
   ]
  },
  {
   "cell_type": "code",
   "execution_count": 7,
   "id": "9b3cf558",
   "metadata": {},
   "outputs": [
    {
     "data": {
      "text/plain": [
       "'1.3.4'"
      ]
     },
     "execution_count": 7,
     "metadata": {},
     "output_type": "execute_result"
    }
   ],
   "source": [
    "import pandas as pd\n",
    "pd.__version__"
   ]
  },
  {
   "cell_type": "code",
   "execution_count": 8,
   "id": "c5dbf96f",
   "metadata": {},
   "outputs": [
    {
     "data": {
      "text/plain": [
       "'3.4.3'"
      ]
     },
     "execution_count": 8,
     "metadata": {},
     "output_type": "execute_result"
    }
   ],
   "source": [
    "import matplotlib as mp\n",
    "mp.__version__"
   ]
  },
  {
   "cell_type": "code",
   "execution_count": 9,
   "id": "f0a628e1",
   "metadata": {},
   "outputs": [
    {
     "data": {
      "text/plain": [
       "'0.24.2'"
      ]
     },
     "execution_count": 9,
     "metadata": {},
     "output_type": "execute_result"
    }
   ],
   "source": [
    "import sklearn\n",
    "sklearn.__version__"
   ]
  },
  {
   "cell_type": "code",
   "execution_count": 10,
   "id": "cbab6c65",
   "metadata": {},
   "outputs": [
    {
     "data": {
      "text/html": [
       "<div>\n",
       "<style scoped>\n",
       "    .dataframe tbody tr th:only-of-type {\n",
       "        vertical-align: middle;\n",
       "    }\n",
       "\n",
       "    .dataframe tbody tr th {\n",
       "        vertical-align: top;\n",
       "    }\n",
       "\n",
       "    .dataframe thead th {\n",
       "        text-align: right;\n",
       "    }\n",
       "</style>\n",
       "<table border=\"1\" class=\"dataframe\">\n",
       "  <thead>\n",
       "    <tr style=\"text-align: right;\">\n",
       "      <th></th>\n",
       "      <th>price</th>\n",
       "      <th>area</th>\n",
       "      <th>bedrooms</th>\n",
       "      <th>bathrooms</th>\n",
       "      <th>stories</th>\n",
       "      <th>mainroad</th>\n",
       "      <th>guestroom</th>\n",
       "      <th>basement</th>\n",
       "      <th>hotwaterheating</th>\n",
       "      <th>airconditioning</th>\n",
       "      <th>parking</th>\n",
       "      <th>prefarea</th>\n",
       "      <th>furnishingstatus</th>\n",
       "    </tr>\n",
       "  </thead>\n",
       "  <tbody>\n",
       "    <tr>\n",
       "      <th>0</th>\n",
       "      <td>13300000</td>\n",
       "      <td>7420</td>\n",
       "      <td>4</td>\n",
       "      <td>2</td>\n",
       "      <td>3</td>\n",
       "      <td>yes</td>\n",
       "      <td>no</td>\n",
       "      <td>no</td>\n",
       "      <td>no</td>\n",
       "      <td>yes</td>\n",
       "      <td>2</td>\n",
       "      <td>yes</td>\n",
       "      <td>furnished</td>\n",
       "    </tr>\n",
       "    <tr>\n",
       "      <th>1</th>\n",
       "      <td>12250000</td>\n",
       "      <td>8960</td>\n",
       "      <td>4</td>\n",
       "      <td>4</td>\n",
       "      <td>4</td>\n",
       "      <td>yes</td>\n",
       "      <td>no</td>\n",
       "      <td>no</td>\n",
       "      <td>no</td>\n",
       "      <td>yes</td>\n",
       "      <td>3</td>\n",
       "      <td>no</td>\n",
       "      <td>furnished</td>\n",
       "    </tr>\n",
       "    <tr>\n",
       "      <th>2</th>\n",
       "      <td>12250000</td>\n",
       "      <td>9960</td>\n",
       "      <td>3</td>\n",
       "      <td>2</td>\n",
       "      <td>2</td>\n",
       "      <td>yes</td>\n",
       "      <td>no</td>\n",
       "      <td>yes</td>\n",
       "      <td>no</td>\n",
       "      <td>no</td>\n",
       "      <td>2</td>\n",
       "      <td>yes</td>\n",
       "      <td>semi-furnished</td>\n",
       "    </tr>\n",
       "    <tr>\n",
       "      <th>3</th>\n",
       "      <td>12215000</td>\n",
       "      <td>7500</td>\n",
       "      <td>4</td>\n",
       "      <td>2</td>\n",
       "      <td>2</td>\n",
       "      <td>yes</td>\n",
       "      <td>no</td>\n",
       "      <td>yes</td>\n",
       "      <td>no</td>\n",
       "      <td>yes</td>\n",
       "      <td>3</td>\n",
       "      <td>yes</td>\n",
       "      <td>furnished</td>\n",
       "    </tr>\n",
       "    <tr>\n",
       "      <th>4</th>\n",
       "      <td>11410000</td>\n",
       "      <td>7420</td>\n",
       "      <td>4</td>\n",
       "      <td>1</td>\n",
       "      <td>2</td>\n",
       "      <td>yes</td>\n",
       "      <td>yes</td>\n",
       "      <td>yes</td>\n",
       "      <td>no</td>\n",
       "      <td>yes</td>\n",
       "      <td>2</td>\n",
       "      <td>no</td>\n",
       "      <td>furnished</td>\n",
       "    </tr>\n",
       "    <tr>\n",
       "      <th>...</th>\n",
       "      <td>...</td>\n",
       "      <td>...</td>\n",
       "      <td>...</td>\n",
       "      <td>...</td>\n",
       "      <td>...</td>\n",
       "      <td>...</td>\n",
       "      <td>...</td>\n",
       "      <td>...</td>\n",
       "      <td>...</td>\n",
       "      <td>...</td>\n",
       "      <td>...</td>\n",
       "      <td>...</td>\n",
       "      <td>...</td>\n",
       "    </tr>\n",
       "    <tr>\n",
       "      <th>540</th>\n",
       "      <td>1820000</td>\n",
       "      <td>3000</td>\n",
       "      <td>2</td>\n",
       "      <td>1</td>\n",
       "      <td>1</td>\n",
       "      <td>yes</td>\n",
       "      <td>no</td>\n",
       "      <td>yes</td>\n",
       "      <td>no</td>\n",
       "      <td>no</td>\n",
       "      <td>2</td>\n",
       "      <td>no</td>\n",
       "      <td>unfurnished</td>\n",
       "    </tr>\n",
       "    <tr>\n",
       "      <th>541</th>\n",
       "      <td>1767150</td>\n",
       "      <td>2400</td>\n",
       "      <td>3</td>\n",
       "      <td>1</td>\n",
       "      <td>1</td>\n",
       "      <td>no</td>\n",
       "      <td>no</td>\n",
       "      <td>no</td>\n",
       "      <td>no</td>\n",
       "      <td>no</td>\n",
       "      <td>0</td>\n",
       "      <td>no</td>\n",
       "      <td>semi-furnished</td>\n",
       "    </tr>\n",
       "    <tr>\n",
       "      <th>542</th>\n",
       "      <td>1750000</td>\n",
       "      <td>3620</td>\n",
       "      <td>2</td>\n",
       "      <td>1</td>\n",
       "      <td>1</td>\n",
       "      <td>yes</td>\n",
       "      <td>no</td>\n",
       "      <td>no</td>\n",
       "      <td>no</td>\n",
       "      <td>no</td>\n",
       "      <td>0</td>\n",
       "      <td>no</td>\n",
       "      <td>unfurnished</td>\n",
       "    </tr>\n",
       "    <tr>\n",
       "      <th>543</th>\n",
       "      <td>1750000</td>\n",
       "      <td>2910</td>\n",
       "      <td>3</td>\n",
       "      <td>1</td>\n",
       "      <td>1</td>\n",
       "      <td>no</td>\n",
       "      <td>no</td>\n",
       "      <td>no</td>\n",
       "      <td>no</td>\n",
       "      <td>no</td>\n",
       "      <td>0</td>\n",
       "      <td>no</td>\n",
       "      <td>furnished</td>\n",
       "    </tr>\n",
       "    <tr>\n",
       "      <th>544</th>\n",
       "      <td>1750000</td>\n",
       "      <td>3850</td>\n",
       "      <td>3</td>\n",
       "      <td>1</td>\n",
       "      <td>2</td>\n",
       "      <td>yes</td>\n",
       "      <td>no</td>\n",
       "      <td>no</td>\n",
       "      <td>no</td>\n",
       "      <td>no</td>\n",
       "      <td>0</td>\n",
       "      <td>no</td>\n",
       "      <td>unfurnished</td>\n",
       "    </tr>\n",
       "  </tbody>\n",
       "</table>\n",
       "<p>545 rows × 13 columns</p>\n",
       "</div>"
      ],
      "text/plain": [
       "        price  area  bedrooms  bathrooms  stories mainroad guestroom basement  \\\n",
       "0    13300000  7420         4          2        3      yes        no       no   \n",
       "1    12250000  8960         4          4        4      yes        no       no   \n",
       "2    12250000  9960         3          2        2      yes        no      yes   \n",
       "3    12215000  7500         4          2        2      yes        no      yes   \n",
       "4    11410000  7420         4          1        2      yes       yes      yes   \n",
       "..        ...   ...       ...        ...      ...      ...       ...      ...   \n",
       "540   1820000  3000         2          1        1      yes        no      yes   \n",
       "541   1767150  2400         3          1        1       no        no       no   \n",
       "542   1750000  3620         2          1        1      yes        no       no   \n",
       "543   1750000  2910         3          1        1       no        no       no   \n",
       "544   1750000  3850         3          1        2      yes        no       no   \n",
       "\n",
       "    hotwaterheating airconditioning  parking prefarea furnishingstatus  \n",
       "0                no             yes        2      yes        furnished  \n",
       "1                no             yes        3       no        furnished  \n",
       "2                no              no        2      yes   semi-furnished  \n",
       "3                no             yes        3      yes        furnished  \n",
       "4                no             yes        2       no        furnished  \n",
       "..              ...             ...      ...      ...              ...  \n",
       "540              no              no        2       no      unfurnished  \n",
       "541              no              no        0       no   semi-furnished  \n",
       "542              no              no        0       no      unfurnished  \n",
       "543              no              no        0       no        furnished  \n",
       "544              no              no        0       no      unfurnished  \n",
       "\n",
       "[545 rows x 13 columns]"
      ]
     },
     "execution_count": 10,
     "metadata": {},
     "output_type": "execute_result"
    }
   ],
   "source": [
    "data = pd.read_csv('Housing.csv')\n",
    "data"
   ]
  },
  {
   "cell_type": "code",
   "execution_count": 11,
   "id": "a8031a3b",
   "metadata": {},
   "outputs": [],
   "source": [
    "X= data['area']\n",
    "y = data['price']"
   ]
  },
  {
   "cell_type": "code",
   "execution_count": 12,
   "id": "ab10ade5",
   "metadata": {},
   "outputs": [],
   "source": [
    "# Splitting and Normalization"
   ]
  },
  {
   "cell_type": "raw",
   "id": "ef0f01b6",
   "metadata": {},
   "source": []
  },
  {
   "cell_type": "code",
   "execution_count": 13,
   "id": "40b0cd21",
   "metadata": {},
   "outputs": [],
   "source": [
    "from sklearn.model_selection import train_test_split\n",
    "from sklearn.preprocessing import StandardScaler"
   ]
  },
  {
   "cell_type": "code",
   "execution_count": 14,
   "id": "4a5fb6c8",
   "metadata": {},
   "outputs": [],
   "source": [
    "RandomState = 42"
   ]
  },
  {
   "cell_type": "code",
   "execution_count": 15,
   "id": "212f0f79",
   "metadata": {},
   "outputs": [],
   "source": [
    "#Splitting of training and testing data"
   ]
  },
  {
   "cell_type": "code",
   "execution_count": 16,
   "id": "7bc31842",
   "metadata": {},
   "outputs": [],
   "source": [
    "X_train, X_test, y_train, y_test = train_test_split(X,y, test_size=0.2, random_state = RandomState)"
   ]
  },
  {
   "cell_type": "code",
   "execution_count": 17,
   "id": "24222989",
   "metadata": {},
   "outputs": [],
   "source": [
    "np.save(\"X_train.npy\",X_train)\n",
    "np.save(\"X_test.npy\",X_test)\n",
    "np.save(\"y_train.npy\",y_train)\n",
    "np.save(\"y_test.npy\",y_test)"
   ]
  },
  {
   "cell_type": "code",
   "execution_count": 18,
   "id": "b6834b60",
   "metadata": {},
   "outputs": [],
   "source": [
    "#Normalization"
   ]
  },
  {
   "cell_type": "code",
   "execution_count": 19,
   "id": "f28ed7a4",
   "metadata": {},
   "outputs": [],
   "source": [
    "X_train = np.asarray(X_train).reshape(-1,1)\n",
    "X_test = np.asarray(X_test).reshape(-1,1)"
   ]
  },
  {
   "cell_type": "code",
   "execution_count": 20,
   "id": "3c4211bc",
   "metadata": {},
   "outputs": [],
   "source": [
    "scaler = StandardScaler()\n",
    "scaler.fit(X_train)\n",
    "X_train_Normalized = scaler.transform(X_train)"
   ]
  },
  {
   "cell_type": "code",
   "execution_count": 21,
   "id": "cdd849c7",
   "metadata": {},
   "outputs": [],
   "source": [
    "X_test_Normalized = scaler.transform(X_test)\n"
   ]
  },
  {
   "cell_type": "code",
   "execution_count": 22,
   "id": "17fc3107",
   "metadata": {},
   "outputs": [
    {
     "data": {
      "text/plain": [
       "array([[ 0.33875048],\n",
       "       [ 0.61125674],\n",
       "       [-0.5060189 ],\n",
       "       [-0.0700089 ],\n",
       "       [-0.54235307],\n",
       "       [ 0.7111757 ],\n",
       "       [ 1.52869446],\n",
       "       [-0.07455067],\n",
       "       [-0.86936058],\n",
       "       [-1.11461621],\n",
       "       [ 1.55594508],\n",
       "       [-0.55416168],\n",
       "       [-0.65135557],\n",
       "       [-0.93294537],\n",
       "       [-0.5378113 ],\n",
       "       [-0.69223151],\n",
       "       [-1.43254017],\n",
       "       [ 0.38416819],\n",
       "       [ 0.31604163],\n",
       "       [ 0.38416819],\n",
       "       [-0.06092536],\n",
       "       [ 0.75886429],\n",
       "       [-0.68360215],\n",
       "       [-0.61502141],\n",
       "       [ 1.40606664],\n",
       "       [ 2.18270947],\n",
       "       [-0.93748714],\n",
       "       [-0.97836308],\n",
       "       [ 3.65424324],\n",
       "       [-0.97836308],\n",
       "       [-0.52418599],\n",
       "       [-0.92386183],\n",
       "       [ 0.38416819],\n",
       "       [ 0.6634871 ],\n",
       "       [-0.17219874],\n",
       "       [-0.25167973],\n",
       "       [-0.23078759],\n",
       "       [-0.8966112 ],\n",
       "       [-0.76035808],\n",
       "       [-1.0751028 ],\n",
       "       [ 1.28343883],\n",
       "       [-0.69223151],\n",
       "       [ 0.57492257],\n",
       "       [-0.43335057],\n",
       "       [ 0.72480101],\n",
       "       [ 0.33193783],\n",
       "       [ 0.38416819],\n",
       "       [-0.23351265],\n",
       "       [ 1.31523123],\n",
       "       [-0.97836308],\n",
       "       [ 1.0540794 ],\n",
       "       [-0.97836308],\n",
       "       [ 1.18806164],\n",
       "       [-0.29709744],\n",
       "       [-0.68768974],\n",
       "       [-1.01923902],\n",
       "       [ 0.27062392],\n",
       "       [-1.25086933],\n",
       "       [ 0.58854788],\n",
       "       [-0.61502141],\n",
       "       [-0.8966112 ],\n",
       "       [-1.37122626],\n",
       "       [ 0.58400611],\n",
       "       [-0.08817598],\n",
       "       [ 0.09349485],\n",
       "       [-0.63318849],\n",
       "       [ 0.65667445],\n",
       "       [-0.97836308],\n",
       "       [ 1.47419321],\n",
       "       [ 0.24791506],\n",
       "       [-1.04648964],\n",
       "       [ 0.54767194],\n",
       "       [ 1.47419321],\n",
       "       [ 2.4279651 ],\n",
       "       [-1.12188304],\n",
       "       [-0.40609994],\n",
       "       [-0.69223151],\n",
       "       [-0.15403166],\n",
       "       [ 0.38416819],\n",
       "       [ 0.06624423],\n",
       "       [ 0.54767194],\n",
       "       [-0.48785182],\n",
       "       [ 0.15707965],\n",
       "       [ 0.68846684],\n",
       "       [-1.5687933 ],\n",
       "       [ 0.36600111],\n",
       "       [-1.0691985 ],\n",
       "       [-0.77398339],\n",
       "       [ 1.02909966],\n",
       "       [ 0.38416819],\n",
       "       [-1.47568699],\n",
       "       [ 1.31523123],\n",
       "       [ 0.13437079],\n",
       "       [-0.79215047],\n",
       "       [ 1.55594508],\n",
       "       [-0.66043912],\n",
       "       [ 0.30604973],\n",
       "       [ 0.29333277],\n",
       "       [ 0.15707965],\n",
       "       [ 0.65667445],\n",
       "       [-0.86936058],\n",
       "       [-0.25167973],\n",
       "       [-0.99198839],\n",
       "       [-0.84210995],\n",
       "       [ 0.38416819],\n",
       "       [ 0.80655289],\n",
       "       [ 0.38416819],\n",
       "       [ 0.38416819],\n",
       "       [ 0.4295859 ]])"
      ]
     },
     "execution_count": 22,
     "metadata": {},
     "output_type": "execute_result"
    }
   ],
   "source": [
    "X_test_Normalized"
   ]
  },
  {
   "cell_type": "code",
   "execution_count": 23,
   "id": "2e30b5bc",
   "metadata": {},
   "outputs": [],
   "source": [
    "import pickle\n",
    "with open('scaler.pkl','wb') as f:\n",
    "    pickle.dump(scaler, f)"
   ]
  },
  {
   "cell_type": "code",
   "execution_count": 24,
   "id": "8873df8b",
   "metadata": {},
   "outputs": [],
   "source": [
    " with open(r'C:\\Users\\student\\Desktop\\scaler.pkl','rb') as f:\n",
    "         sc = pickle.load(f)"
   ]
  },
  {
   "cell_type": "code",
   "execution_count": 25,
   "id": "376d92a3",
   "metadata": {},
   "outputs": [],
   "source": [
    "from sklearn.linear_model import LinearRegression\n",
    "reg = LinearRegression()\n",
    "reg.fit(X_train_Normalized, y_train)\n",
    "Score = reg.score(X_train_Normalized, y_train)\n",
    "CoEfficient = reg.coef_\n",
    "Intercept = reg.intercept_\n"
   ]
  },
  {
   "cell_type": "code",
   "execution_count": 26,
   "id": "ed04c92a",
   "metadata": {},
   "outputs": [],
   "source": [
    " Predictions = reg.predict(X_test_Normalized)\n"
   ]
  },
  {
   "cell_type": "code",
   "execution_count": 27,
   "id": "a8e813cd",
   "metadata": {},
   "outputs": [
    {
     "name": "stdout",
     "output_type": "stream",
     "text": [
      "MAE: 1474748.1337969352\n",
      "MSE: 3675286604768.1855\n",
      "RMSE: 1917103.7021424235\n"
     ]
    }
   ],
   "source": [
    "from sklearn.metrics import mean_absolute_error,mean_squared_error\n",
    "mae = mean_absolute_error(y_test, Predictions)\n",
    "#squared True returns MSE value, False returns RMSE value.\n",
    "mse = mean_squared_error(y_test, Predictions) #default=True\n",
    "rmse = mean_squared_error(y_test, Predictions,squared=False)\n",
    "print(\"MAE:\",mae)\n",
    "print(\"MSE:\",mse)\n",
    "print(\"RMSE:\",rmse)\n"
   ]
  },
  {
   "cell_type": "code",
   "execution_count": 28,
   "id": "7b847c7e",
   "metadata": {},
   "outputs": [
    {
     "data": {
      "image/png": "[encoded data removed]",
      "text/plain": [
       "<Figure size 432x288 with 1 Axes>"
      ]
     },
     "metadata": {
      "needs_background": "light"
     },
     "output_type": "display_data"
    }
   ],
   "source": [
    "import matplotlib.pyplot as plt\n",
    "plt.scatter(X_test, y_test, color ='b')\n",
    "plt.plot(X_test, Predictions, color ='k')\n",
    "plt.show()\n"
   ]
  },
  {
   "cell_type": "code",
   "execution_count": 29,
   "id": "2fc0d614",
   "metadata": {},
   "outputs": [],
   "source": [
    "pickle.dump(reg, open(\"model.pkl\", \"wb\"))"
   ]
  }
 ],
 "metadata": {
  "kernelspec": {
   "display_name": "Python 3 (ipykernel)",
   "language": "python",
   "name": "python3"
  },
  "language_info": {
   "codemirror_mode": {
    "name": "ipython",
    "version": 3
   },
   "file_extension": ".py",
   "mimetype": "text/x-python",
   "name": "python",
   "nbconvert_exporter": "python",
   "pygments_lexer": "ipython3",
   "version": "3.9.7"
  }
 },
 "nbformat": 4,
 "nbformat_minor": 5
}
